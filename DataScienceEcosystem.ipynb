{
 "cells": [
  {
   "cell_type": "markdown",
   "id": "7d5ee7da-dab8-4d42-8c59-f17f1a5722e1",
   "metadata": {},
   "source": [
    "# Data Science Tools and Ecosystem"
   ]
  },
  {
   "cell_type": "markdown",
   "id": "e4337173-6a08-47ac-8aa6-183f8509df87",
   "metadata": {},
   "source": []
  },
  {
   "cell_type": "markdown",
   "id": "fb509591-46e4-4cc0-add3-9a724bb9e020",
   "metadata": {},
   "source": [
    " In this notebook, the tools and ecosystems of data science are summarized."
   ]
  },
  {
   "cell_type": "markdown",
   "id": "6a7e422a-6d73-4644-a5f7-60ef89e263ef",
   "metadata": {},
   "source": []
  },
  {
   "cell_type": "markdown",
   "id": "e74b1bbf-b730-4992-8f2b-c784ae9cefb7",
   "metadata": {},
   "source": [
    "**Objectives:**\n",
    "\n",
    "- List popular languages for Data Science.\n",
    "- Identify libraries used in Data Science.\n",
    "- Explore open-source Data Science tools.\n",
    "- Perform simple arithmetic operations in Python.\n",
    "- Convert time units using Python.\n"
   ]
  },
  {
   "cell_type": "markdown",
   "id": "b517e7fc-d4fc-4af3-a58d-d24561a36842",
   "metadata": {},
   "source": []
  },
  {
   "cell_type": "markdown",
   "id": "66a2b3d0-70c4-402d-9ab6-2abd859d1285",
   "metadata": {},
   "source": [
    "Some of the popular languages used by data scientists are:\n",
    "\n",
    "1. Python\n",
    "2. R\n",
    "3. SQL"
   ]
  },
  {
   "cell_type": "markdown",
   "id": "e85830a1-3d7b-4296-a62a-4d9de0534720",
   "metadata": {},
   "source": []
  },
  {
   "cell_type": "markdown",
   "id": "1f61123b-8971-4639-96ac-1cb4f74877cf",
   "metadata": {},
   "source": [
    "-Some of the commonly used libraries by data scientists include:\n",
    "\n",
    "1. NumPy\n",
    "2. Pandas\n",
    "3. Matplotlib\n",
    "4. Scikit-learn\n",
    "5. TensorFlow"
   ]
  },
  {
   "cell_type": "markdown",
   "id": "52a9eba6-5d8d-449c-b943-19b3ecc4ce0d",
   "metadata": {},
   "source": []
  },
  {
   "cell_type": "markdown",
   "id": "36ecbc48-7042-4535-ad69-0346ee52b4be",
   "metadata": {},
   "source": [
    "| Data Science Tools |\n",
    "|----------------------------------|\n",
    "| Jupyter Notebook                |\n",
    "| RStudio                          |\n",
    "| Apache Zeppelin                  |\n"
   ]
  },
  {
   "cell_type": "markdown",
   "id": "da93851c-d234-4cdc-8f57-091d41a3be04",
   "metadata": {},
   "source": [
    "### The following are some examples of evaluating arithmetic expressions in Python:"
   ]
  },
  {
   "cell_type": "code",
   "execution_count": 7,
   "id": "59429fe4-4c0b-4b98-9de7-bd82cb2022fd",
   "metadata": {},
   "outputs": [
    {
     "name": "stdout",
     "output_type": "stream",
     "text": [
      "the result is:  17\n"
     ]
    }
   ],
   "source": [
    "# This is a simple arithmetic expression to multiply and then add integers.\n",
    "result = (3*4)+5\n",
    "print(\"the result is: \", result)"
   ]
  },
  {
   "cell_type": "code",
   "execution_count": 8,
   "id": "fdc33fba-502e-4743-b66a-8c137dc6891b",
   "metadata": {},
   "outputs": [
    {
     "name": "stdout",
     "output_type": "stream",
     "text": [
      "the result in hours is:  3.3333333333333335\n"
     ]
    }
   ],
   "source": [
    "# This will convert 200 minutes to hours by dividing by 60.\n",
    "hours = 200/60\n",
    "print(\"the result in hours is: \",hours)"
   ]
  },
  {
   "cell_type": "markdown",
   "id": "bc7aa548-5628-4b42-be12-eaeac72c2365",
   "metadata": {},
   "source": []
  },
  {
   "cell_type": "markdown",
   "id": "4861ca7a-a32f-4f86-9c44-9f0d555a66ab",
   "metadata": {},
   "source": [
    "## Author\n",
    "\n",
    "Johan Jerez"
   ]
  },
  {
   "cell_type": "code",
   "execution_count": null,
   "id": "ace84198-d736-46f9-a7cb-4133da9887b5",
   "metadata": {},
   "outputs": [],
   "source": []
  }
 ],
 "metadata": {
  "kernelspec": {
   "display_name": "Python 3 (ipykernel)",
   "language": "python",
   "name": "python3"
  },
  "language_info": {
   "codemirror_mode": {
    "name": "ipython",
    "version": 3
   },
   "file_extension": ".py",
   "mimetype": "text/x-python",
   "name": "python",
   "nbconvert_exporter": "python",
   "pygments_lexer": "ipython3",
   "version": "3.12.8"
  }
 },
 "nbformat": 4,
 "nbformat_minor": 5
}
